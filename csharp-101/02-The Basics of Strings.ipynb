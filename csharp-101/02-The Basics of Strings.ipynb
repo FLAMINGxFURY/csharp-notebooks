{
 "cells": [
  {
   "attachments": {},
   "cell_type": "markdown",
   "metadata": {
    "dotnet_interactive": {
     "language": "csharp"
    },
    "polyglot_notebook": {
     "kernelName": "csharp"
    }
   },
   "source": [
    "# What are Characters?\n"
   ]
  },
  {
   "cell_type": "code",
   "execution_count": 3,
   "metadata": {
    "dotnet_interactive": {
     "language": "csharp"
    },
    "polyglot_notebook": {
     "kernelName": "csharp"
    },
    "vscode": {
     "languageId": "polyglot-notebook"
    }
   },
   "outputs": [
    {
     "name": "stdout",
     "output_type": "stream",
     "text": [
      "610\r\n"
     ]
    }
   ],
   "source": [
    "char firstNameFirstLetter  = 'D';\n",
    "char firstNameSecondLetter = 'i';\n",
    "char firstNameThirdLetter  = 'l';\n",
    "char firstNameFourthLetter = 'l';\n",
    "char firstNameFifthLetter  = 'o';\n",
    "char firstNameSixthLetter  = 'n';\n",
    "\n",
    "// This should print out my name...\n",
    "Console.WriteLine(firstNameFirstLetter + firstNameSecondLetter + firstNameThirdLetter +\n",
    "                  firstNameFourthLetter + firstNameFifthLetter + firstNameSixthLetter);\n"
   ]
  },
  {
   "cell_type": "markdown",
   "metadata": {
    "dotnet_interactive": {
     "language": "csharp"
    },
    "polyglot_notebook": {
     "kernelName": "csharp"
    }
   },
   "source": [
    "\n",
    "below is an image of the ASCII table:\n",
    "\n",
    "<img style=\"background-color:rgba(255,255,255,0.8)\" src=\"https://upload.wikimedia.org/wikipedia/commons/thumb/1/1b/ASCII-Table-wide.svg/1200px-ASCII-Table-wide.svg.png?20221024154539\" />"
   ]
  },
  {
   "cell_type": "markdown",
   "metadata": {
    "dotnet_interactive": {
     "language": "csharp"
    },
    "polyglot_notebook": {
     "kernelName": "csharp"
    }
   },
   "source": [
    "\n",
    "## What is a String?\n",
    "\n",
    "A string is a sequence of characters. A handy metaphor is a friendship bracelet, where you string together letters to make a name."
   ]
  },
  {
   "attachments": {},
   "cell_type": "markdown",
   "metadata": {
    "dotnet_interactive": {
     "language": "csharp"
    },
    "polyglot_notebook": {
     "kernelName": "csharp"
    }
   },
   "source": [
    "## Strings and String Literals\n",
    "\n",
    "`firstFriend` and `secondFriend` are variables of strings. The line within `Console.WriteLine` is also a string. It's a **string literal**.\n",
    "\n",
    "> Try that out with the following code. Press play and see what comes out.\n",
    ">\n",
    "> Next, try changing the variables to see different names."
   ]
  },
  {
   "cell_type": "code",
   "execution_count": 4,
   "metadata": {
    "dotnet_interactive": {
     "language": "csharp"
    },
    "vscode": {
     "languageId": "polyglot-notebook"
    }
   },
   "outputs": [
    {
     "name": "stdout",
     "output_type": "stream",
     "text": [
      "My friends are Maria and Sophia\r\n"
     ]
    }
   ],
   "source": [
    "string firstFriend = \"Maria\";\n",
    "string secondFriend = \"Sophia\";\n",
    "Console.WriteLine($\"My friends are {firstFriend} and {secondFriend}\");"
   ]
  },
  {
   "cell_type": "markdown",
   "metadata": {
    "dotnet_interactive": {
     "language": "csharp"
    },
    "polyglot_notebook": {
     "kernelName": "csharp"
    }
   },
   "source": [
    "## String Properties\n",
    "\n",
    "As you explore more with strings, you'll find that strings are more than a collection of letters. You can find the length of a string using `Length`. `Length` is a **property** of a string and it returns the number of characters in that string.\n",
    "\n",
    "> Try that out by seeing how long the names of the friends are:"
   ]
  },
  {
   "cell_type": "code",
   "execution_count": 5,
   "metadata": {
    "dotnet_interactive": {
     "language": "csharp"
    },
    "vscode": {
     "languageId": "polyglot-notebook"
    }
   },
   "outputs": [
    {
     "name": "stdout",
     "output_type": "stream",
     "text": [
      "The name Maria has 5 letters.\n",
      "The name Sophia has 6 letters.\n"
     ]
    }
   ],
   "source": [
    "Console.WriteLine($\"The name {firstFriend} has {firstFriend.Length} letters.\");\n",
    "Console.WriteLine($\"The name {secondFriend} has {secondFriend.Length} letters.\");"
   ]
  },
  {
   "attachments": {},
   "cell_type": "markdown",
   "metadata": {
    "dotnet_interactive": {
     "language": "csharp"
    },
    "polyglot_notebook": {
     "kernelName": "csharp"
    }
   },
   "source": [
    "# What can you do with strings?\n",
    "\n",
    "[C# String Documentation](https://docs.microsoft.com/en-us/dotnet/api/system.string?view=net-7.0)\n",
    "\n",
    "## Leading and Trailing Spaces\n",
    "\n",
    "Suppose your strings have leading or trailing spaces (also called **white space**) that you don't want to display. You want to trim the spaces from the strings. The `Trim` function and related functions `TrimStart` and `TrimEnd` do that work. You can just use those methods to remove leading and trailing spaces.\n",
    "\n",
    "> Play around with trimming in the following code. The brackets are there to help you see all the white space.\n",
    "\n",
    "**Editing Note: Should this be all one thing? Or multiple breakups of code and markdown?*"
   ]
  },
  {
   "cell_type": "code",
   "execution_count": 6,
   "metadata": {
    "dotnet_interactive": {
     "language": "csharp"
    },
    "vscode": {
     "languageId": "polyglot-notebook"
    }
   },
   "outputs": [
    {
     "name": "stdout",
     "output_type": "stream",
     "text": [
      "[      Hello World!       ]\n",
      "[Hello World!       ]\n",
      "[      Hello World!]\n",
      "[Hello World!]\n"
     ]
    }
   ],
   "source": [
    "string greeting = \"      Hello World!       \";\n",
    "Console.WriteLine($\"[{greeting}]\");\n",
    "\n",
    "string trimmedGreeting = greeting.TrimStart();\n",
    "Console.WriteLine($\"[{trimmedGreeting}]\");\n",
    "\n",
    "trimmedGreeting = greeting.TrimEnd();\n",
    "Console.WriteLine($\"[{trimmedGreeting}]\");\n",
    "\n",
    "trimmedGreeting = greeting.Trim();\n",
    "Console.WriteLine($\"[{trimmedGreeting}]\");"
   ]
  },
  {
   "cell_type": "markdown",
   "metadata": {
    "dotnet_interactive": {
     "language": "csharp"
    },
    "polyglot_notebook": {
     "kernelName": "csharp"
    }
   },
   "source": [
    "## Replace\n",
    "\n",
    "You can also replace substrings with other values. For example, in the code below, you can take \"Hello World!\" and replace \"Hello\" with \"Greetings\", to make \"Greetings World!\"\n",
    "\n",
    "> Try it out. What else could you replace \"Hello\" with?"
   ]
  },
  {
   "cell_type": "code",
   "execution_count": 7,
   "metadata": {
    "dotnet_interactive": {
     "language": "csharp"
    },
    "vscode": {
     "languageId": "polyglot-notebook"
    }
   },
   "outputs": [
    {
     "name": "stdout",
     "output_type": "stream",
     "text": [
      "Hello World!\n",
      "Greetings World!\n"
     ]
    }
   ],
   "source": [
    "string sayHello = \"Hello World!\";\n",
    "Console.WriteLine(sayHello);\n",
    "sayHello = sayHello.Replace(\"Hello\", \"Greetings\");\n",
    "Console.WriteLine(sayHello);"
   ]
  },
  {
   "cell_type": "markdown",
   "metadata": {
    "dotnet_interactive": {
     "language": "csharp"
    },
    "polyglot_notebook": {
     "kernelName": "csharp"
    }
   },
   "source": [
    "## Changing Case\n",
    "\n",
    "Sometimes you need your strings to be all UPPERCASE or all lowercase. `ToUpper` and `ToLower` do just that.\n",
    "> The following example seems a bit mixed up. Can you fix it so \"whisper\" is all lowercase, and \"shout\" is all uppercase?"
   ]
  },
  {
   "cell_type": "code",
   "execution_count": 8,
   "metadata": {
    "dotnet_interactive": {
     "language": "csharp"
    },
    "vscode": {
     "languageId": "polyglot-notebook"
    }
   },
   "outputs": [
    {
     "name": "stdout",
     "output_type": "stream",
     "text": [
      "WHISPER\n",
      "shout\n"
     ]
    }
   ],
   "source": [
    "Console.WriteLine(\"WhiSPer\".ToUpper());\n",
    "Console.WriteLine(\"sHoUt\".ToLower());"
   ]
  },
  {
   "cell_type": "markdown",
   "metadata": {
    "dotnet_interactive": {
     "language": "csharp"
    },
    "polyglot_notebook": {
     "kernelName": "csharp"
    }
   },
   "source": [
    "# Playground\n",
    "\n",
    "Now it's your turn to play around with what you've learned. Try these exercises:\n",
    "> Create three variables of three different people.\n",
    ">\n",
    "> Find the length of the first person, make the second person all caps, and the third person all lowercase.\n",
    ">\n",
    "> How many letters are in \"supercalifragilisticexpialidocious\"?\n",
    ">\n",
    "> How many characters are taken out when you trim \"       friendship bracelet     \"? Does trimming take out the center space?\n",
    ">\n",
    "> What do you want to write?"
   ]
  },
  {
   "cell_type": "code",
   "execution_count": 9,
   "metadata": {
    "dotnet_interactive": {
     "language": "csharp"
    },
    "vscode": {
     "languageId": "polyglot-notebook"
    }
   },
   "outputs": [
    {
     "name": "stdout",
     "output_type": "stream",
     "text": [
      "Playground\n",
      "supercalifragilisticexpialidocious\n",
      "       friendship bracelet     \n"
     ]
    }
   ],
   "source": [
    "Console.WriteLine(\"Playground\");\n",
    "Console.WriteLine(\"supercalifragilisticexpialidocious\");\n",
    "Console.WriteLine(\"       friendship bracelet     \");"
   ]
  },
  {
   "attachments": {},
   "cell_type": "markdown",
   "metadata": {
    "dotnet_interactive": {
     "language": "csharp"
    },
    "polyglot_notebook": {
     "kernelName": "csharp"
    }
   },
   "source": [
    "# Continue learning\n",
    "\n",
    "There are plenty more resources out there to learn!\n",
    "> [Watch the video](https://www.youtube.com/watch?v=JSpC7Cz64h0&list=PLdo4fOcmZ0oVxKLQCHpiUWun7vlJJvUiN&index=3)\n",
    ">\n",
    "> [Documentation: Intro to C#](https://docs.microsoft.com/dotnet/csharp/tour-of-csharp/tutorials/hello-world?WT.mc_id=csharpnotebook-35129-website)\n",
    ">\n",
    "> [Start at the beginning: What is C#?](https://www.youtube.com/watch?v=BM4CHBmAPh4&list=PLdo4fOcmZ0oVxKLQCHpiUWun7vlJJvUiN&index=1)"
   ]
  },
  {
   "cell_type": "markdown",
   "metadata": {
    "dotnet_interactive": {
     "language": "csharp"
    },
    "polyglot_notebook": {
     "kernelName": "csharp"
    }
   },
   "source": [
    "# Other resources\n",
    "\n",
    "Here's some more places to explore:\n",
    "> [Other 101 Videos](https://dotnet.microsoft.com/learn/videos?WT.mc_id=csharpnotebook-35129-website)\n",
    ">\n",
    "> [Microsoft Learn](https://docs.microsoft.com/learn/dotnet/?WT.mc_id=csharpnotebook-35129-website)\n",
    ">\n",
    "> [C# Documentation](https://docs.microsoft.com/dotnet/csharp/?WT.mc_id=csharpnotebook-35129-website)"
   ]
  }
 ],
 "metadata": {
  "kernelspec": {
   "display_name": ".NET (C#)",
   "language": "C#",
   "name": ".net-csharp"
  },
  "polyglot_notebook": {
   "kernelInfo": {
    "defaultKernelName": "csharp",
    "items": [
     {
      "aliases": [
       "c#",
       "C#"
      ],
      "languageName": "C#",
      "name": "csharp"
     },
     {
      "aliases": [],
      "name": ".NET"
     },
     {
      "aliases": [
       "f#",
       "F#"
      ],
      "languageName": "F#",
      "name": "fsharp"
     },
     {
      "aliases": [],
      "languageName": "HTML",
      "name": "html"
     },
     {
      "aliases": [],
      "languageName": "KQL",
      "name": "kql"
     },
     {
      "aliases": [],
      "languageName": "Mermaid",
      "name": "mermaid"
     },
     {
      "aliases": [
       "powershell"
      ],
      "languageName": "PowerShell",
      "name": "pwsh"
     },
     {
      "aliases": [],
      "languageName": "SQL",
      "name": "sql"
     },
     {
      "aliases": [],
      "name": "value"
     },
     {
      "aliases": [
       "frontend"
      ],
      "name": "vscode"
     }
    ]
   }
  }
 },
 "nbformat": 4,
 "nbformat_minor": 2
}

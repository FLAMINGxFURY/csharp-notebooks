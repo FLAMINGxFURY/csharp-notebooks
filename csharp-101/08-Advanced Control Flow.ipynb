{
 "cells": [
  {
   "attachments": {},
   "cell_type": "markdown",
   "metadata": {},
   "source": [
    "# Switch Statements\n",
    "if/else statements model \"yes\" or \"no\" questions. What if there are more than two possible answers to a question?"
   ]
  },
  {
   "cell_type": "code",
   "execution_count": 1,
   "metadata": {
    "dotnet_interactive": {
     "language": "csharp"
    },
    "polyglot_notebook": {
     "kernelName": "csharp"
    },
    "vscode": {
     "languageId": "polyglot-notebook"
    }
   },
   "outputs": [
    {
     "name": "stdout",
     "output_type": "stream",
     "text": [
      "You chose 1.\r\n"
     ]
    }
   ],
   "source": [
    "int decision = 1;\n",
    "\n",
    "switch (decision) { //what this actually does is: if (decision == (one of the cases)) ...\n",
    "    case 0:\n",
    "        Console.WriteLine(\"You chose 0.\");\n",
    "        break;\n",
    "    case 1:\n",
    "        Console.WriteLine(\"You chose 1.\");\n",
    "        break;\n",
    "    case 2:\n",
    "        Console.WriteLine(\"You chose 2.\");\n",
    "        break;\n",
    "    //and so on...\n",
    "    default:\n",
    "        Console.WriteLine(\"You chose something else.\");\n",
    "        break;\n",
    "}\n"
   ]
  },
  {
   "attachments": {},
   "cell_type": "markdown",
   "metadata": {
    "dotnet_interactive": {
     "language": "csharp"
    },
    "polyglot_notebook": {
     "kernelName": "csharp"
    }
   },
   "source": [
    "A switch statement is checking to see if the parameter is equal to one of the cases. If it is, then the code in that case is executed. If it is not, then the default code is executed.\n",
    "\n",
    "Because switch statements are checking for equality, they can be used with any data type that can be compared. For example, you can also use strings:"
   ]
  },
  {
   "cell_type": "code",
   "execution_count": 2,
   "metadata": {
    "dotnet_interactive": {
     "language": "csharp"
    },
    "polyglot_notebook": {
     "kernelName": "csharp"
    },
    "vscode": {
     "languageId": "polyglot-notebook"
    }
   },
   "outputs": [
    {
     "name": "stdout",
     "output_type": "stream",
     "text": [
      "You chose coffee.\r\n"
     ]
    }
   ],
   "source": [
    "string beverage = \"Coffee\";\n",
    "\n",
    "switch (beverage) {\n",
    "    case \"Coffee\":\n",
    "        Console.WriteLine(\"You chose coffee.\");\n",
    "        break;\n",
    "    case \"Tea\":\n",
    "        Console.WriteLine(\"You chose tea.\");\n",
    "        break;\n",
    "    case \"Milk\":\n",
    "        Console.WriteLine(\"You chose milk.\");\n",
    "        break;\n",
    "    default:\n",
    "        Console.WriteLine(\"You chose something else.\");\n",
    "        break;\n",
    "}"
   ]
  },
  {
   "attachments": {},
   "cell_type": "markdown",
   "metadata": {
    "dotnet_interactive": {
     "language": "csharp"
    },
    "polyglot_notebook": {
     "kernelName": "csharp"
    }
   },
   "source": [
    "# While Loops"
   ]
  },
  {
   "cell_type": "code",
   "execution_count": 3,
   "metadata": {
    "dotnet_interactive": {
     "language": "csharp"
    },
    "vscode": {
     "languageId": "polyglot-notebook"
    }
   },
   "outputs": [
    {
     "name": "stdout",
     "output_type": "stream",
     "text": [
      "Hello World! The counter is 0\n",
      "Hello World! The counter is 1\n",
      "Hello World! The counter is 2\n",
      "Hello World! The counter is 3\n",
      "Hello World! The counter is 4\n",
      "Hello World! The counter is 5\n",
      "Hello World! The counter is 6\n",
      "Hello World! The counter is 7\n",
      "Hello World! The counter is 8\n",
      "Hello World! The counter is 9\n"
     ]
    }
   ],
   "source": [
    "int counter = 0;\n",
    "while (counter < 10)\n",
    "{\n",
    "  Console.WriteLine($\"Hello World! The counter is {counter}\");\n",
    "  counter++;\n",
    "}"
   ]
  },
  {
   "attachments": {},
   "cell_type": "markdown",
   "metadata": {
    "dotnet_interactive": {
     "language": "csharp"
    },
    "polyglot_notebook": {
     "kernelName": "csharp"
    }
   },
   "source": [
    "So what happened here? `while` checks if the condition ('counter < 10') is true. If it is, it goes through the loop. Then it checks it again. It will keep going through the loop until the condition is false.\n",
    "When figuring out branches and loops, it can be helpful to put code into human language. This code is saying: \"Set up counter to equal 0. While the counter is less than 10, print 'Hello World! the counter is {counter}' and then increase the counter by 1\".\n",
    "\n",
    "## ++\n",
    "\n",
    "`++` is a quick quick way to add one to a variable. You can also do the same with `--`, which subtracts one from the variable.\n",
    "\n",
    "## Infinite loops\n",
    "\n",
    "You can't show one on this notebook, because the code doesn't catch itself, but as a challenge, try making an infinite loop in Visual Studio! What are the different ways you might accidentally make it infinite? It can be scary to make a mistake, but always know you can CTRL+C or exit the program."
   ]
  },
  {
   "cell_type": "markdown",
   "metadata": {
    "dotnet_interactive": {
     "language": "csharp"
    },
    "polyglot_notebook": {
     "kernelName": "csharp"
    }
   },
   "source": [
    "## do\n",
    "\n",
    "You can also make a loop with `do`.\n",
    "> Try out the following code and see if there's anything different between this and the `while` loop."
   ]
  },
  {
   "cell_type": "code",
   "execution_count": 4,
   "metadata": {
    "dotnet_interactive": {
     "language": "csharp"
    },
    "vscode": {
     "languageId": "polyglot-notebook"
    }
   },
   "outputs": [
    {
     "name": "stdout",
     "output_type": "stream",
     "text": [
      "Hello World! The counter is 0\n",
      "Hello World! The counter is 1\n",
      "Hello World! The counter is 2\n",
      "Hello World! The counter is 3\n",
      "Hello World! The counter is 4\n",
      "Hello World! The counter is 5\n",
      "Hello World! The counter is 6\n",
      "Hello World! The counter is 7\n",
      "Hello World! The counter is 8\n",
      "Hello World! The counter is 9\n"
     ]
    }
   ],
   "source": [
    "int counter = 0;\n",
    "do\n",
    "{\n",
    "  Console.WriteLine($\"Hello World! The counter is {counter}\");\n",
    "  counter++;\n",
    "} while (counter < 10);"
   ]
  },
  {
   "attachments": {},
   "cell_type": "markdown",
   "metadata": {
    "dotnet_interactive": {
     "language": "csharp"
    },
    "polyglot_notebook": {
     "kernelName": "csharp"
    }
   },
   "source": [
    "Hmm, nothing much seems to different, right?\n",
    "\n",
    "# Pretest v.s. Posttest\n",
    "\n",
    "> Try changing the conditional to `(counter < 0)` on both codes. What happens?"
   ]
  },
  {
   "cell_type": "code",
   "execution_count": 5,
   "metadata": {
    "dotnet_interactive": {
     "language": "csharp"
    },
    "polyglot_notebook": {
     "kernelName": "csharp"
    },
    "vscode": {
     "languageId": "polyglot-notebook"
    }
   },
   "outputs": [
    {
     "name": "stdout",
     "output_type": "stream",
     "text": [
      "Hello World! The counter is 0\r\n"
     ]
    }
   ],
   "source": [
    "int counter = 0;\n",
    "do\n",
    "{\n",
    "  Console.WriteLine($\"Hello World! The counter is {counter}\");\n",
    "  counter++;\n",
    "} while (counter < 0);"
   ]
  },
  {
   "cell_type": "markdown",
   "metadata": {
    "dotnet_interactive": {
     "language": "csharp"
    },
    "polyglot_notebook": {
     "kernelName": "csharp"
    }
   },
   "source": [
    "\n",
    "In the `while` loop, nothing is printed out, but in the `do` loop, you get one print out. The `do` loop does the action first, then checks the conditional. In contrast, the `while` loop checks the conditional first, then does an action."
   ]
  },
  {
   "attachments": {},
   "cell_type": "markdown",
   "metadata": {
    "dotnet_interactive": {
     "language": "csharp"
    },
    "polyglot_notebook": {
     "kernelName": "csharp"
    }
   },
   "source": [
    "# Continue learning\n",
    "\n",
    "There are plenty more resources out there to learn!\n",
    "> [Watch the video](https://www.youtube.com/watch?v=z31m5Up_gSQ&list=PLdo4fOcmZ0oVxKLQCHpiUWun7vlJJvUiN&index=10)\n",
    ">\n",
    "> [Documentation: Branches and Loops in C#](https://docs.microsoft.com/dotnet/csharp/tour-of-csharp/tutorials/branches-and-loops-local?WT.mc_id=Educationalcsharp-c9-scottha)\n",
    ">\n",
    "> [Start at the beginning: What is C#?](https://www.youtube.com/watch?v=BM4CHBmAPh4&list=PLdo4fOcmZ0oVxKLQCHpiUWun7vlJJvUiN&index=1)\n",
    ">\n",
    "\n",
    "# Other resources\n",
    "\n",
    "Here's some more places to explore:\n",
    "> [Other 101 Videos](https://dotnet.microsoft.com/learn/videos?WT.mc_id=csharpnotebook-35129-website)\n",
    ">\n",
    "> [Microsoft Learn](https://docs.microsoft.com/learn/dotnet/?WT.mc_id=csharpnotebook-35129-website)\n",
    ">\n",
    "> [C# Documentation](https://docs.microsoft.com/dotnet/csharp/?WT.mc_id=csharpnotebook-35129-website)"
   ]
  }
 ],
 "metadata": {
  "kernelspec": {
   "display_name": ".NET (C#)",
   "language": "C#",
   "name": ".net-csharp"
  },
  "polyglot_notebook": {
   "kernelInfo": {
    "defaultKernelName": "csharp",
    "items": [
     {
      "aliases": [
       "c#",
       "C#"
      ],
      "languageName": "C#",
      "name": "csharp"
     },
     {
      "aliases": [],
      "name": ".NET"
     },
     {
      "aliases": [
       "f#",
       "F#"
      ],
      "languageName": "F#",
      "name": "fsharp"
     },
     {
      "aliases": [],
      "languageName": "HTML",
      "name": "html"
     },
     {
      "aliases": [],
      "languageName": "KQL",
      "name": "kql"
     },
     {
      "aliases": [],
      "languageName": "Mermaid",
      "name": "mermaid"
     },
     {
      "aliases": [
       "powershell"
      ],
      "languageName": "PowerShell",
      "name": "pwsh"
     },
     {
      "aliases": [],
      "languageName": "SQL",
      "name": "sql"
     },
     {
      "aliases": [],
      "name": "value"
     },
     {
      "aliases": [
       "frontend"
      ],
      "name": "vscode"
     }
    ]
   }
  }
 },
 "nbformat": 4,
 "nbformat_minor": 2
}

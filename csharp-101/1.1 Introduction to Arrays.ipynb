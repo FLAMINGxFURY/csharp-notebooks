{
 "cells": [
  {
   "attachments": {},
   "cell_type": "markdown",
   "metadata": {},
   "source": [
    "<span style=\"font-size:16px;\">\n",
    "<h1 style=\"font-family:Copperplate\">Arrays</h1>\n",
    "<code>Arrays</code> are gridlike data structures that store multiple instances of one type of item: e.g., <code>ints</code>: <kbd>[1, 2, 3]</kbd>, <code>doubles</code>: <kbd>[1.2, 0.144579, 63.0]</kbd>, or <code>strings</code>: <kbd>[\"Hello\", \"World!\"]</kbd>.\n",
    "</span>"
   ]
  },
  {
   "attachments": {},
   "cell_type": "markdown",
   "metadata": {
    "dotnet_interactive": {
     "language": "csharp"
    },
    "polyglot_notebook": {
     "kernelName": "csharp"
    }
   },
   "source": [
    "<span style=\"font-size:16px;\">\n",
    "<h4 style=\"font-family:Copperplate;margin-bottom:6pt;\">Declaring an Array</h4>\n",
    "Declaring an array is similar to declaring a variable. First, declare the type of values that the array stores. Then, use square brackets (<code>[]</code>) to indicate that it is an array:\n",
    "</span>\n",
    "<br /><br />\n",
    "\n",
    ">```csharp\n",
    ">int[] ArrayOfIntegers;\n",
    ">```"
   ]
  },
  {
   "attachments": {},
   "cell_type": "markdown",
   "metadata": {
    "dotnet_interactive": {
     "language": "csharp"
    },
    "polyglot_notebook": {
     "kernelName": "csharp"
    }
   },
   "source": [
    "<span style=\"font-size:16px;\">\n",
    "<h4 style=\"font-family:Copperplate;margin-bottom:6pt;\">Initializing an Array</h4>\n",
    "An array’s contents can be initialized by assigning a value to each of its items:\n",
    "</span>\n",
    "<br /><br />\n",
    "\n",
    ">```csharp\n",
    ">int[] arrayOfIntegers = {1, 2, 3, 4};\n",
    ">```\n",
    "\n",
    "<span style=\"font-size:16px;\">\n",
    "Alternatively, the <code>new</code> keyword specifies an array’s size and initializes its elements to a type-dependent default value. For example, unspecified <code>integers</code> are initialized to 0.\n",
    "</span>\n",
    "<br /><br />\n",
    "\n",
    ">```csharp\n",
    ">int[] arrayOfIntegers = new int[4];\n",
    ">```\n",
    "\n",
    "<span style=\"font-size:16px;\">\n",
    "Below are some examples.\n",
    "</span>"
   ]
  },
  {
   "cell_type": "code",
   "execution_count": 2,
   "metadata": {
    "dotnet_interactive": {
     "language": "csharp"
    },
    "polyglot_notebook": {
     "kernelName": "csharp"
    },
    "vscode": {
     "languageId": "polyglot-notebook"
    }
   },
   "outputs": [
    {
     "name": "stdout",
     "output_type": "stream",
     "text": [
      "The array of strings: \t\t[Hello, World!]\n",
      "\n",
      "The array of integers: \t\t[0, 0, 0, 0]\n",
      "\n",
      "The array of doubles: \t\t[1.2, 0.144579, 63]\n",
      "\n",
      "The array of characters: \t[a, Z, .]\n",
      "\n"
     ]
    }
   ],
   "source": [
    "// Create an array of two strings\n",
    "string[] arrayOfStrings = {\"Hello\", \"World!\"};\n",
    "\n",
    "// Create an array of four integers, initialized to 0. \n",
    "int[] arrayOfIntegers = new int[4];\n",
    "\n",
    "// You can also use the \"new\" keyword like this: \n",
    "double[] arrayOfDoubles = new double[3] {1.2, 0.144579, 63.0};\n",
    "\n",
    "// Or this: \n",
    "char[] arrayOfCharacters = new char[] {'a', 'Z', '.'};\n",
    "\n",
    "//This prints each array:\n",
    "Console.WriteLine($\"The array of strings: \\t\\t[{string.Join(\", \", arrayOfStrings)}]\\n\");\n",
    "Console.WriteLine($\"The array of integers: \\t\\t[{string.Join(\", \", arrayOfIntegers)}]\\n\");\n",
    "Console.WriteLine($\"The array of doubles: \\t\\t[{string.Join(\", \", arrayOfDoubles)}]\\n\");\n",
    "Console.WriteLine($\"The array of characters: \\t[{string.Join(\", \", arrayOfCharacters)}]\\n\");"
   ]
  },
  {
   "attachments": {},
   "cell_type": "markdown",
   "metadata": {
    "dotnet_interactive": {
     "language": "csharp"
    },
    "polyglot_notebook": {
     "kernelName": "csharp"
    }
   },
   "source": [
    "<span style=\"font-size:16px;\">\n",
    "<h4 style=\"font-family:Copperplate;margin-bottom:6pt;\">Accessing Array Values</h4>\n",
    "<code>Array</code> elements are accessed using <i>indexing</i>. Each of an array’s elements is assigned an <i>index</i>: a non-negative integer that references that element's contents. The array's first element is assigned 0. Succeeding elements are assigned integer indexes in <i>ascending order</i>.<br /><br />\n",
    "In C#, array elements are accessed using <code>[i]</code> where <kbd>i</kbd> is the index of the element to access. Given the array <kbd><code>SalesPerRegister</code> = {15, 4, 8, 9, 3}</kbd>, the following code will print 8 to the console:</span>\n",
    "<br /><br />\n",
    "\n",
    ">```csharp\n",
    ">Console.Write(SalesPerRegister[2]);\n",
    ">```\n",
    "\n",
    "<span style=\"font-size:16px;\">\n",
    "Indexing can be used to alter an array’s elements. The following code changes the value 9 to 10.</span>\n",
    "<br /><br />\n",
    "\n",
    ">```csharp\n",
    ">SalesPerRegister[3] = 10;\n",
    ">```"
   ]
  },
  {
   "attachments": {},
   "cell_type": "markdown",
   "metadata": {
    "dotnet_interactive": {
     "language": "csharp"
    },
    "polyglot_notebook": {
     "kernelName": "csharp"
    }
   },
   "source": [
    "<span style=\"font-size:16px;\">\n",
    "<h4 style=\"font-family:Copperplate;margin-bottom:6pt;\">Properties and Methods</h4>\n",
    "Programs that use arrays commonly scan their values, possibly updating them during the scan. C#, like most languages, supports the use of a loop with an index variable to step through an array’s values. Additionally, C#’s <code>foreach</code> loop steps through an array’s elements in ascending order. \n",
    "</span>"
   ]
  },
  {
   "cell_type": "code",
   "execution_count": 4,
   "metadata": {
    "dotnet_interactive": {
     "language": "csharp"
    },
    "polyglot_notebook": {
     "kernelName": "csharp"
    },
    "vscode": {
     "languageId": "polyglot-notebook"
    }
   },
   "outputs": [
    {
     "name": "stdout",
     "output_type": "stream",
     "text": [
      "Original Value: 8\n",
      "Altered Value: 9\n",
      "The Array:\n",
      "15 4 9 9 3 \n",
      "The Array with foreach:\n",
      "15 4 9 9 3 \n",
      "The Array Reversed:\n",
      "3 9 9 4 15 \n",
      "The Index of 4: 3\n",
      "The Array Cleared:\n",
      "0 0 0 0 0 "
     ]
    }
   ],
   "source": [
    "int[] SalesPerRegister = {15, 4, 8, 9, 3};\n",
    "\n",
    "//Print 8\n",
    "Console.WriteLine($\"Original Value: {SalesPerRegister[2]}\");\n",
    "\n",
    "//Register 3 just recorded a sale! Below, its value is being incremented.\n",
    "SalesPerRegister[2]++;\n",
    "\n",
    "//Print the new value\n",
    "Console.WriteLine($\"Altered Value: {SalesPerRegister[2]}\"); \n",
    "\n",
    "//Below are examples demonstrating built-in array properties and methods.\n",
    "Console.WriteLine(\"The Array:\");\n",
    "\n",
    "//This displays the array\n",
    "for(int i = 0; i < SalesPerRegister.Length; i++) {\n",
    "    Console.Write($\"{SalesPerRegister[i]} \");\n",
    "}\n",
    "\n",
    "Console.WriteLine(\"\\nThe Array with foreach:\");\n",
    "\n",
    "//This also displays the array\n",
    "foreach (int x in SalesPerRegister) {\n",
    "    Console.Write($\"{x} \");\n",
    "}\n",
    "\n",
    "//This method reverses an array's contents\n",
    "Array.Reverse(SalesPerRegister);\n",
    "\n",
    "Console.WriteLine(\"\\nThe Array Reversed:\");\n",
    "\n",
    "for(int i = 0; i < SalesPerRegister.Length; i++) {\n",
    "    Console.Write($\"{SalesPerRegister[i]} \");\n",
    "}\n",
    "\n",
    "//Find the index of the first element that contains the value 4\n",
    "Console.Write(\"\\n\");\n",
    "Console.WriteLine($\"The Index of 4: {Array.IndexOf(SalesPerRegister, 4)}\");\n",
    "\n",
    "//Clear the array\n",
    "Array.Clear(SalesPerRegister);\n",
    "\n",
    "Console.WriteLine(\"The Array Cleared:\");\n",
    "\n",
    "for(int i = 0; i < SalesPerRegister.Length; i++) {\n",
    "    Console.Write($\"{SalesPerRegister[i]} \");\n",
    "}"
   ]
  },
  {
   "attachments": {},
   "cell_type": "markdown",
   "metadata": {
    "dotnet_interactive": {
     "language": "csharp"
    },
    "polyglot_notebook": {
     "kernelName": "csharp"
    }
   },
   "source": [
    "<span style=\"font-size:16px;\">\n",
    "Support for <code>foreach</code> loops is less common, particularly in older languages like C. To see what constructs your language supports, keep its documentation handy: for example, C#'s documentation on arrays is <a href=\"https://docs.microsoft.com/en-us/dotnet/api/system.array?view=net-6.0\">here</a>.\n",
    "</span>"
   ]
  },
  {
   "cell_type": "markdown",
   "metadata": {
    "dotnet_interactive": {
     "language": "csharp"
    },
    "polyglot_notebook": {
     "kernelName": "csharp"
    }
   },
   "source": [
    "<span style=\"font-size:16px;\">\n",
    "<h4 style=\"font-family:Copperplate\">Arrays in Memory</h4>\n",
    "Languages like C# that support arrays commonly store each array in a contiguous block of memory. This practice allows an array variable to be treated as a reference type: i.e., a variable that stores the address of an array's first location in memory. This also allows an array’s index to be treated as an offset from this first address: i.e., an indicator of how many objects to look ahead of that address. That is why (e.g.) <kbd>array[0]</kbd> accesses the first element - we are adding 0 to <kbd>array</kbd>’s address. <br /><br />\n",
    "<img src=\"https://raw.githubusercontent.com/FLAMINGxFURY/TextbookTemp/main/Chapter%201%20-%20Array%20and%20Array%20Algorithms/Assets/ArraysInMemory.jpg\" style=\"width:90%;\"/><br />\n",
    "<a href=\"https://beginnersbook.com/2018/10/data-structure-array/\" style=\"font-size:11px;\">Source: BeginnersBook.com</a>\n",
    "</span>"
   ]
  },
  {
   "attachments": {},
   "cell_type": "markdown",
   "metadata": {
    "dotnet_interactive": {
     "language": "csharp"
    },
    "polyglot_notebook": {
     "kernelName": "csharp"
    }
   },
   "source": [
    "<hr /><span style=\"font-size:14px;\">\n",
    "<b style=\"font-size:16px;\">Exercises</b> &emsp;|&emsp; <i>Place your answers in a <b>new</b> markdown cell below.</i>\n",
    "<ol>\n",
    "<li> What does the following code do?\n",
    "\n",
    "```csharp\n",
    "int[] monthlySales = new int[];\n",
    "```\n",
    "</li> \n",
    "<li>Given the array <kbd><code>inchesOfSnow</code> = [7, 2, 0, 0, 1, 0, 5]</kbd>, what does the following code do?\n",
    "\n",
    "```csharp\n",
    "Console.WriteLine(inchesOfSnow[5]);\n",
    "```\n",
    "</li>\n",
    "<li> Given the above array, what does the following code do?\n",
    "\n",
    "```csharp\n",
    "inchesOfSnow[4] = 2;\n",
    "```\n",
    "</li>\n",
    "<li> What does the following code do?\n",
    "\n",
    "```csharp\n",
    "bool[] questionsCorrect = [true, false, false, true, true];\n",
    "```\n",
    "</li>\n",
    "<li> What does the following code do?\n",
    "\n",
    "```csharp\n",
    "bool[] questionsCorrect = {true, false, false, true, true};\n",
    "```\n",
    "</li>\n",
    "<li> Give some examples of builtin <code>Array</code> methods in C#. What do they do?\n",
    "</li>\n",
    "</span>"
   ]
  }
 ],
 "metadata": {
  "kernelspec": {
   "display_name": ".NET (C#)",
   "language": "C#",
   "name": ".net-csharp"
  },
  "polyglot_notebook": {
   "kernelInfo": {
    "defaultKernelName": "csharp",
    "items": [
     {
      "aliases": [
       "c#",
       "C#"
      ],
      "languageName": "C#",
      "name": "csharp"
     },
     {
      "aliases": [],
      "languageName": "HTML",
      "name": "html"
     },
     {
      "aliases": [
       "frontend"
      ],
      "languageName": null,
      "name": "vscode"
     }
    ]
   }
  }
 },
 "nbformat": 4,
 "nbformat_minor": 2
}

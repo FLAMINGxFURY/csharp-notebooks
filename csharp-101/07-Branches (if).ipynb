{
 "cells": [
  {
   "attachments": {},
   "cell_type": "markdown",
   "metadata": {},
   "source": [
    "# Boolean Operations (In C#)\n",
    "\n",
    "|Operation|Symbol|Mathematical Notation|\n",
    "|:---|:---|:---|\n",
    "|Equal to|`==`|=|\n",
    "|Not equal to|`!=`|≠|\n",
    "|Greater than|`>`|>|\n",
    "|Less than|`<`|<|\n",
    "|Greater than or equal to|`>=`|≥|\n",
    "|Less than or equal to|`<=`|≤|\n",
    "||||\n",
    "|Logical AND|`&&`|∧|\n",
    "|Logical OR|`\\|\\|`|∨|\n",
    "|Logical NOT|`!`|¬|\n"
   ]
  },
  {
   "attachments": {},
   "cell_type": "markdown",
   "metadata": {
    "dotnet_interactive": {
     "language": "csharp"
    },
    "polyglot_notebook": {
     "kernelName": "csharp"
    }
   },
   "source": [
    "## for loop\n",
    "\n",
    "`for` is one the most common loops. It will repeat an action for a specific amount of turns. It can look a little intimidating.\n",
    "> Before you learn all the ins and outs of the code, run the following for loop just to see it working:"
   ]
  },
  {
   "cell_type": "code",
   "execution_count": 3,
   "metadata": {
    "dotnet_interactive": {
     "language": "csharp"
    },
    "polyglot_notebook": {
     "kernelName": "csharp"
    },
    "vscode": {
     "languageId": "polyglot-notebook"
    }
   },
   "outputs": [
    {
     "name": "stdout",
     "output_type": "stream",
     "text": [
      "Hello World! The counter is 0\n",
      "Hello World! The counter is 1\n",
      "Hello World! The counter is 2\n",
      "Hello World! The counter is 3\n",
      "Hello World! The counter is 4\n",
      "Hello World! The counter is 5\n",
      "Hello World! The counter is 6\n",
      "Hello World! The counter is 7\n",
      "Hello World! The counter is 8\n",
      "Hello World! The counter is 9\n"
     ]
    }
   ],
   "source": [
    "for (int counter = 0; counter < 10; counter++)\n",
    "{\n",
    "  Console.WriteLine($\"Hello World! The counter is {counter}\");\n",
    "}"
   ]
  },
  {
   "attachments": {},
   "cell_type": "markdown",
   "metadata": {
    "dotnet_interactive": {
     "language": "csharp"
    },
    "polyglot_notebook": {
     "kernelName": "csharp"
    }
   },
   "source": [
    "### What's in the parentheses?\n",
    "\n",
    "There are three parts in the `for` loop parentheses: `int counter = 0`, `counter < 10`, and `counter++`.\n",
    "You can think of them as the start point, the end point, and the step size.\n",
    "`int counter = 0` is just setting up the counter. You're starting at 0.\n",
    "`counter < 10` is the conditional that gets checked at the start of every loop. Once the conditional is false (in this case, once counter is not less than 10), the loop is done and the code moves on.\n",
    "`counter++` is increasing counter by one, taking one step closer to the end. The step is taken at the end of each loop.\n",
    "> Try messing with the `for` loop set up. How does it change?"
   ]
  },
  {
   "attachments": {},
   "cell_type": "markdown",
   "metadata": {
    "dotnet_interactive": {
     "language": "csharp"
    },
    "polyglot_notebook": {
     "kernelName": "csharp"
    }
   },
   "source": [
    "# Scope\n",
    "\n",
    "You may have noticed that the `counter` variable is only available inside the `for` loop. This is called scope. Variables that are only available inside a certain block of code are called **local** variables. Essentially, anything nested within `{}` is a new scope. You can access variables from the outer scope, but not the other way around. This is called **encapsulation**. It's a way to keep variables from interfering with each other. Scope also applies to parentheses when declaring a new scope, such as the for loop above."
   ]
  },
  {
   "cell_type": "code",
   "execution_count": 7,
   "metadata": {
    "dotnet_interactive": {
     "language": "csharp"
    },
    "polyglot_notebook": {
     "kernelName": "csharp"
    },
    "vscode": {
     "languageId": "polyglot-notebook"
    }
   },
   "outputs": [
    {
     "ename": "Error",
     "evalue": "(6,50): error CS0103: The name 'counter' does not exist in the current context",
     "output_type": "error",
     "traceback": [
      "(6,50): error CS0103: The name 'counter' does not exist in the current context"
     ]
    }
   ],
   "source": [
    "// The following code will not compile\n",
    "for (int counter = 0; counter < 10; counter++)\n",
    "{\n",
    "  Console.WriteLine($\"Hello World! The counter is {counter}\");\n",
    "}\n",
    "\n",
    "// this \"counter\" is out of scope\n",
    "Console.WriteLine($\"Hello World! The counter is {counter}\");"
   ]
  },
  {
   "attachments": {},
   "cell_type": "markdown",
   "metadata": {
    "dotnet_interactive": {
     "language": "csharp"
    },
    "polyglot_notebook": {
     "kernelName": "csharp"
    }
   },
   "source": [
    "### For loops and collections\n",
    "\n",
    "You can also use a `for` loop to iterate through a collection, such as the arrays we have been using for the past couple weeks. This is a very common use of `for` loops."
   ]
  },
  {
   "cell_type": "code",
   "execution_count": null,
   "metadata": {
    "dotnet_interactive": {
     "language": "csharp"
    },
    "polyglot_notebook": {
     "kernelName": "csharp"
    },
    "vscode": {
     "languageId": "polyglot-notebook"
    }
   },
   "outputs": [],
   "source": [
    "// This is a for loop to add things to an array\n",
    "int[] dailyBirdSightings = new int[7];\n",
    "\n",
    "for (int index = 0; index < dailyBirdSightings.Length; index++) {\n",
    "    string userInput = Console.ReadLine();\n",
    "    dailyBirdSightings[index] = int.Parse(userInput);\n",
    "}"
   ]
  },
  {
   "cell_type": "code",
   "execution_count": 2,
   "metadata": {
    "dotnet_interactive": {
     "language": "csharp"
    },
    "polyglot_notebook": {
     "kernelName": "csharp"
    },
    "vscode": {
     "languageId": "polyglot-notebook"
    }
   },
   "outputs": [
    {
     "name": "stdout",
     "output_type": "stream",
     "text": [
      "0\n",
      "2\n",
      "5\n",
      "3\n",
      "7\n",
      "8\n",
      "4\n"
     ]
    }
   ],
   "source": [
    "int[] dailyBirdSightings = { 0, 2, 5, 3, 7, 8, 4 };\n",
    "\n",
    "// this is a for loop to print out the array\n",
    "for (int index = 0; index < dailyBirdSightings.Length; index++) {\n",
    "    Console.WriteLine(dailyBirdSightings[index]);\n",
    "}"
   ]
  },
  {
   "cell_type": "markdown",
   "metadata": {
    "dotnet_interactive": {
     "language": "csharp"
    },
    "polyglot_notebook": {
     "kernelName": "csharp"
    }
   },
   "source": [
    "## Basic If\n",
    "\n",
    "If statements makes decisions.\n",
    "\n",
    "> Try out our first if statement:"
   ]
  },
  {
   "cell_type": "code",
   "execution_count": 5,
   "metadata": {
    "dotnet_interactive": {
     "language": "csharp"
    },
    "vscode": {
     "languageId": "polyglot-notebook"
    }
   },
   "outputs": [
    {
     "name": "stdout",
     "output_type": "stream",
     "text": [
      "The answer is greater than 10.\r\n"
     ]
    }
   ],
   "source": [
    "int a = 5;\n",
    "int b = 6;\n",
    "if (a + b > 10) {\n",
    "    Console.WriteLine(\"The answer is greater than 10.\");\n",
    "} "
   ]
  },
  {
   "cell_type": "markdown",
   "metadata": {
    "dotnet_interactive": {
     "language": "csharp"
    },
    "polyglot_notebook": {
     "kernelName": "csharp"
    }
   },
   "source": [
    "In words, this if statement is saying \"if a plus b is greater than 10, write the line 'The answer is greater than 10'\".\n",
    "> What would happen if a + b is less than 10? Try editing the previous code to see.\n",
    "\n",
    "Did nothing happen? That's great! Since the the **conditions** (a + b is greater than 10) of the if statement weren't met, the code didn't go into the if statement, and therefore had nothing to print."
   ]
  },
  {
   "attachments": {},
   "cell_type": "markdown",
   "metadata": {
    "dotnet_interactive": {
     "language": "csharp"
    },
    "polyglot_notebook": {
     "kernelName": "csharp"
    }
   },
   "source": [
    "## What's a condition?\n",
    "\n",
    "The `condition` is the statement in parentheses after the `if`. A `condition` is a boolean, which means it has to return a true or false. that means using symbols such as `>`, `<`, `<=`, `>=` or `==`. Refer to the table at the beginning of this notebook for a list of symbols.\n",
    "> Practice boolean statements. Try out some different symbols and numbers to see the answer."
   ]
  },
  {
   "cell_type": "code",
   "execution_count": 4,
   "metadata": {
    "dotnet_interactive": {
     "language": "csharp"
    },
    "vscode": {
     "languageId": "polyglot-notebook"
    }
   },
   "outputs": [
    {
     "name": "stdout",
     "output_type": "stream",
     "text": [
      "This condition is False\r\n"
     ]
    }
   ],
   "source": [
    "bool outcome = 3 > 5;\n",
    "Console.WriteLine(\"This condition is \" + outcome);"
   ]
  },
  {
   "cell_type": "markdown",
   "metadata": {
    "dotnet_interactive": {
     "language": "csharp"
    },
    "polyglot_notebook": {
     "kernelName": "csharp"
    }
   },
   "source": [
    "## Else\n",
    "\n",
    "Before, if the conditions of the `if` statement weren't met, the entire if statement was skipped. But what if you want something to happen in both cases? `else` is what happens if the conditional comes out false.\n",
    "\n",
    "> Run this code and change the conditional a couple times to see the different outcomes."
   ]
  },
  {
   "cell_type": "code",
   "execution_count": 6,
   "metadata": {
    "dotnet_interactive": {
     "language": "csharp"
    },
    "vscode": {
     "languageId": "polyglot-notebook"
    }
   },
   "outputs": [
    {
     "name": "stdout",
     "output_type": "stream",
     "text": [
      "The answer is not greater than 10\r\n"
     ]
    }
   ],
   "source": [
    "int a = 5;\n",
    "int b = 3;\n",
    "if (a + b > 10) {\n",
    "    Console.WriteLine(\"The answer is greater than 10\");\n",
    "}\n",
    "else {\n",
    "    Console.WriteLine(\"The answer is not greater than 10\");\n",
    "}"
   ]
  },
  {
   "cell_type": "markdown",
   "metadata": {
    "dotnet_interactive": {
     "language": "csharp"
    },
    "polyglot_notebook": {
     "kernelName": "csharp"
    }
   },
   "source": [
    "## Multi-line If statements\n",
    "\n",
    "What if you want more complex code in your `if` statements? That's great, just add curly braces around what you want done.\n",
    "\n",
    "> Try it out! Run the following code."
   ]
  },
  {
   "cell_type": "code",
   "execution_count": 8,
   "metadata": {
    "dotnet_interactive": {
     "language": "csharp"
    },
    "vscode": {
     "languageId": "polyglot-notebook"
    }
   },
   "outputs": [
    {
     "name": "stdout",
     "output_type": "stream",
     "text": [
      "The answer is not greater than 10\n",
      "Or the first number is not equal to the second\n"
     ]
    }
   ],
   "source": [
    "int a = 5;\n",
    "int b = 3;\n",
    "int c = 4;\n",
    "if ((a + b + c > 10) && (a == b)) {\n",
    "    Console.WriteLine(\"The answer is greater than 10\");\n",
    "    Console.WriteLine(\"And the first number is equal to the second\");\n",
    "}\n",
    "else {\n",
    "    Console.WriteLine(\"The answer is not greater than 10\");\n",
    "    Console.WriteLine(\"Or the first number is not equal to the second\");\n",
    "}"
   ]
  },
  {
   "cell_type": "markdown",
   "metadata": {
    "dotnet_interactive": {
     "language": "csharp"
    },
    "polyglot_notebook": {
     "kernelName": "csharp"
    }
   },
   "source": [
    "# Playground\n",
    "\n",
    "Play around with what you've learned! Here's some starting ideas:\n",
    "> Try out the \"or\" symbol in place of the \"and\" in the previous code. What do you need to do to get true vs. false?\n",
    ">\n",
    "> What if you put if statements inside of if statements (a nested if statement)?\n",
    ">\n",
    "> Can you draw out the flow of an if statement? A nested if statement?"
   ]
  },
  {
   "cell_type": "code",
   "execution_count": null,
   "metadata": {
    "dotnet_interactive": {
     "language": "csharp"
    },
    "vscode": {
     "languageId": "polyglot-notebook"
    }
   },
   "outputs": [],
   "source": [
    "Console.WriteLine(\"Playground\");"
   ]
  },
  {
   "attachments": {},
   "cell_type": "markdown",
   "metadata": {
    "dotnet_interactive": {
     "language": "csharp"
    },
    "polyglot_notebook": {
     "kernelName": "csharp"
    }
   },
   "source": [
    "# Continue learning\n",
    "\n",
    "There are plenty more resources out there to learn!\n",
    "> [Watch the video](https://www.youtube.com/watch?v=KT2VR7m19So&list=PLdo4fOcmZ0oVxKLQCHpiUWun7vlJJvUiN&index=2)\n",
    ">\n",
    "> [Documentation: Branches and Loops in C#](https://docs.microsoft.com/dotnet/csharp/tour-of-csharp/tutorials/branches-and-loops-local?WT.mc_id=Educationalcsharp-c9-scottha)\n",
    ">\n",
    "> [Start at the beginning: What is C#?](https://www.youtube.com/watch?v=BM4CHBmAPh4&list=PLdo4fOcmZ0oVxKLQCHpiUWun7vlJJvUiN&index=1)"
   ]
  },
  {
   "cell_type": "markdown",
   "metadata": {
    "dotnet_interactive": {
     "language": "csharp"
    },
    "polyglot_notebook": {
     "kernelName": "csharp"
    }
   },
   "source": [
    "# Other resources\n",
    "\n",
    "Here's some more places to explore:\n",
    "> [Other 101 Videos](https://dotnet.microsoft.com/learn/videos?WT.mc_id=csharpnotebook-35129-website)\n",
    ">\n",
    "> [Microsoft Learn](https://docs.microsoft.com/learn/dotnet/?WT.mc_id=csharpnotebook-35129-website)\n",
    ">\n",
    "> [C# Documentation](https://docs.microsoft.com/dotnet/csharp/?WT.mc_id=csharpnotebook-35129-website)"
   ]
  }
 ],
 "metadata": {
  "kernelspec": {
   "display_name": ".NET (C#)",
   "language": "C#",
   "name": ".net-csharp"
  },
  "polyglot_notebook": {
   "kernelInfo": {
    "defaultKernelName": "csharp",
    "items": [
     {
      "aliases": [
       "c#",
       "C#"
      ],
      "languageName": "C#",
      "name": "csharp"
     },
     {
      "aliases": [],
      "name": ".NET"
     },
     {
      "aliases": [
       "f#",
       "F#"
      ],
      "languageName": "F#",
      "name": "fsharp"
     },
     {
      "aliases": [],
      "languageName": "HTML",
      "name": "html"
     },
     {
      "aliases": [],
      "languageName": "KQL",
      "name": "kql"
     },
     {
      "aliases": [],
      "languageName": "Mermaid",
      "name": "mermaid"
     },
     {
      "aliases": [
       "powershell"
      ],
      "languageName": "PowerShell",
      "name": "pwsh"
     },
     {
      "aliases": [],
      "languageName": "SQL",
      "name": "sql"
     },
     {
      "aliases": [],
      "name": "value"
     },
     {
      "aliases": [
       "frontend"
      ],
      "name": "vscode"
     }
    ]
   }
  }
 },
 "nbformat": 4,
 "nbformat_minor": 2
}
